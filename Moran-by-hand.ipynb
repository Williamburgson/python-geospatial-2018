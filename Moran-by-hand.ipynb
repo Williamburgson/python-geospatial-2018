{
 "cells": [
  {
   "cell_type": "markdown",
   "metadata": {},
   "source": [
    "## Implementation of Moran's I on a regular grid\n",
    "\n",
    "Chris Prince [cmp670@nyu.edu]\n",
    "\n",
    "18 Oct 2018"
   ]
  },
  {
   "cell_type": "code",
   "execution_count": 1,
   "metadata": {},
   "outputs": [],
   "source": [
    "import numpy as np\n",
    "from matplotlib import pylab as pl\n",
    "%matplotlib inline"
   ]
  },
  {
   "cell_type": "markdown",
   "metadata": {},
   "source": [
    "Define a matrix of values, associated with rectangles on a grid:"
   ]
  },
  {
   "cell_type": "code",
   "execution_count": 2,
   "metadata": {},
   "outputs": [],
   "source": [
    "somethingInteresting = np.array([[1,1,1],[1,1,0],[1,0,0]])\n",
    "#somethingInteresting = np.array([[2,3,3],[1,2,3],[1,1,2]])\n",
    "#somethingInteresting = np.array([[7,2,4],[8,6,3],[1,1,2]])\n",
    "#somethingInteresting = np.array([[0,3,0],[3,0,3],[0,3,0]])\n",
    "#somethingInteresting = np.triu(np.ones(35))\n",
    "#somethingInteresting = np.array([1 if i%2 else 0 for i in range(25**2)]).reshape(25,25)"
   ]
  },
  {
   "cell_type": "code",
   "execution_count": 3,
   "metadata": {},
   "outputs": [
    {
     "data": {
      "text/plain": [
       "array([[1, 1, 1],\n",
       "       [1, 1, 0],\n",
       "       [1, 0, 0]])"
      ]
     },
     "execution_count": 3,
     "metadata": {},
     "output_type": "execute_result"
    }
   ],
   "source": [
    "somethingInteresting"
   ]
  },
  {
   "cell_type": "markdown",
   "metadata": {},
   "source": [
    "Get the dimensions and the total number of entries:"
   ]
  },
  {
   "cell_type": "code",
   "execution_count": 4,
   "metadata": {},
   "outputs": [],
   "source": [
    "xdim, ydim = somethingInteresting.shape\n",
    "N = xdim*ydim"
   ]
  },
  {
   "cell_type": "markdown",
   "metadata": {},
   "source": [
    "The weight matrix can be calculated for a grid by iterating over the matrix elements and checking if the flattened dimensions differ by either one or the width of the matrix:"
   ]
  },
  {
   "cell_type": "code",
   "execution_count": 5,
   "metadata": {},
   "outputs": [
    {
     "data": {
      "text/plain": [
       "array([[0, 1, 0, 1, 0, 0, 0, 0, 0],\n",
       "       [1, 0, 1, 0, 1, 0, 0, 0, 0],\n",
       "       [0, 1, 0, 0, 0, 1, 0, 0, 0],\n",
       "       [1, 0, 0, 0, 1, 0, 1, 0, 0],\n",
       "       [0, 1, 0, 1, 0, 1, 0, 1, 0],\n",
       "       [0, 0, 1, 0, 1, 0, 0, 0, 1],\n",
       "       [0, 0, 0, 1, 0, 0, 0, 1, 0],\n",
       "       [0, 0, 0, 0, 1, 0, 1, 0, 1],\n",
       "       [0, 0, 0, 0, 0, 1, 0, 1, 0]])"
      ]
     },
     "execution_count": 5,
     "metadata": {},
     "output_type": "execute_result"
    }
   ],
   "source": [
    "W = np.array([1 if abs(i-j)==xdim else\n",
    "              1 if (abs(i-j)==1 and (i+j)%xdim !=(xdim-1)) else  # modulus needed to not count across rows!\n",
    "              0 \n",
    "              for i in range(N) \n",
    "              for j in range(N)]).reshape(N, N)\n",
    "W"
   ]
  },
  {
   "cell_type": "markdown",
   "metadata": {},
   "source": [
    "Calculate row sums and normalize the weight matrix:"
   ]
  },
  {
   "cell_type": "code",
   "execution_count": 6,
   "metadata": {},
   "outputs": [
    {
     "data": {
      "text/plain": [
       "array([2, 3, 2, 3, 4, 3, 2, 3, 2])"
      ]
     },
     "execution_count": 6,
     "metadata": {},
     "output_type": "execute_result"
    }
   ],
   "source": [
    "rowSums = W.sum(axis=0)\n",
    "rowSums"
   ]
  },
  {
   "cell_type": "code",
   "execution_count": 7,
   "metadata": {},
   "outputs": [
    {
     "data": {
      "text/plain": [
       "array([[ 0.        ,  0.5       ,  0.        ,  0.5       ,  0.        ,\n",
       "         0.        ,  0.        ,  0.        ,  0.        ],\n",
       "       [ 0.33333333,  0.        ,  0.33333333,  0.        ,  0.33333333,\n",
       "         0.        ,  0.        ,  0.        ,  0.        ],\n",
       "       [ 0.        ,  0.5       ,  0.        ,  0.        ,  0.        ,\n",
       "         0.5       ,  0.        ,  0.        ,  0.        ],\n",
       "       [ 0.33333333,  0.        ,  0.        ,  0.        ,  0.33333333,\n",
       "         0.        ,  0.33333333,  0.        ,  0.        ],\n",
       "       [ 0.        ,  0.25      ,  0.        ,  0.25      ,  0.        ,\n",
       "         0.25      ,  0.        ,  0.25      ,  0.        ],\n",
       "       [ 0.        ,  0.        ,  0.33333333,  0.        ,  0.33333333,\n",
       "         0.        ,  0.        ,  0.        ,  0.33333333],\n",
       "       [ 0.        ,  0.        ,  0.        ,  0.5       ,  0.        ,\n",
       "         0.        ,  0.        ,  0.5       ,  0.        ],\n",
       "       [ 0.        ,  0.        ,  0.        ,  0.        ,  0.33333333,\n",
       "         0.        ,  0.33333333,  0.        ,  0.33333333],\n",
       "       [ 0.        ,  0.        ,  0.        ,  0.        ,  0.        ,\n",
       "         0.5       ,  0.        ,  0.5       ,  0.        ]])"
      ]
     },
     "execution_count": 7,
     "metadata": {},
     "output_type": "execute_result"
    }
   ],
   "source": [
    "Wr = np.zeros_like(W, dtype=np.float)\n",
    "for i in range(N):\n",
    "    for j in range(N):\n",
    "        Wr[i,j] = W[i,j]/rowSums[i]\n",
    "Wr        "
   ]
  },
  {
   "cell_type": "markdown",
   "metadata": {},
   "source": [
    "Moran's I $I$ is given by:\n",
    "$$I = \\frac{N \\sum_{i=1}^{N}\\sum_{j=1}^{N} w_{ij}(x_i - \\bar{x})(x_j - \\bar{x})}{(\\sum_{i=1}^{N}\\sum_{j=1}^{N} w_{ij})(\\sum_{i=1}^{N}(x_i - \\bar{x})^2))}$$\n",
    "\n",
    "So let's get $\\bar{x}$:"
   ]
  },
  {
   "cell_type": "code",
   "execution_count": 8,
   "metadata": {},
   "outputs": [],
   "source": [
    "xbar = somethingInteresting.mean()"
   ]
  },
  {
   "cell_type": "markdown",
   "metadata": {},
   "source": [
    "We need to flatten the data to make it compatible with our weight indices:"
   ]
  },
  {
   "cell_type": "code",
   "execution_count": 9,
   "metadata": {},
   "outputs": [],
   "source": [
    "x = somethingInteresting.flatten()"
   ]
  },
  {
   "cell_type": "markdown",
   "metadata": {},
   "source": [
    "Now we simply implement the equation above:"
   ]
  },
  {
   "cell_type": "code",
   "execution_count": 10,
   "metadata": {},
   "outputs": [
    {
     "data": {
      "text/plain": [
       "0.30555555555555558"
      ]
     },
     "execution_count": 10,
     "metadata": {},
     "output_type": "execute_result"
    }
   ],
   "source": [
    "N*sum(Wr[i,j]*(x[i]-xbar)*(x[j]-xbar) \n",
    "      for i in range(N) for j in range(N)) / (\n",
    "    sum(Wr[i,j] \n",
    "        for i in range(N) for j in range(N)) * \n",
    "    sum((x[i]-xbar)**2 \n",
    "        for i in range(N)))"
   ]
  },
  {
   "cell_type": "markdown",
   "metadata": {},
   "source": [
    "Note that since we have row-normalized weights, the term $\\sum_{i=1}^{N}\\sum_{j=1}^{N}w_{ij}$ in the denominator reduces to $N$ and cancels the $N$ in the numerator, so we can simply calculate:"
   ]
  },
  {
   "cell_type": "code",
   "execution_count": 11,
   "metadata": {},
   "outputs": [
    {
     "data": {
      "text/plain": [
       "0.30555555555555552"
      ]
     },
     "execution_count": 11,
     "metadata": {},
     "output_type": "execute_result"
    }
   ],
   "source": [
    "sum(Wr[i,j]*(x[i]-xbar)*(x[j]-xbar) \n",
    "      for i in range(N) for j in range(N)) / (\n",
    "    sum((x[i]-xbar)**2 \n",
    "        for i in range(N)))"
   ]
  },
  {
   "cell_type": "markdown",
   "metadata": {},
   "source": [
    "We can see this is the slope of the best fit line through the graph of lag versus data:"
   ]
  },
  {
   "cell_type": "code",
   "execution_count": 12,
   "metadata": {},
   "outputs": [
    {
     "data": {
      "text/plain": [
       "(0.30555555555555541, 0.44444444444444464)"
      ]
     },
     "execution_count": 12,
     "metadata": {},
     "output_type": "execute_result"
    }
   ],
   "source": [
    "lag = np.matmul(Wr,x)\n",
    "m, b = np.polyfit(x, lag, 1)\n",
    "m, b"
   ]
  },
  {
   "cell_type": "code",
   "execution_count": 13,
   "metadata": {},
   "outputs": [
    {
     "data": {
      "text/plain": [
       "<matplotlib.legend.Legend at 0x7ff433980080>"
      ]
     },
     "execution_count": 13,
     "metadata": {},
     "output_type": "execute_result"
    },
    {
     "data": {
      "image/png": "[encoded data removed]",
      "text/plain": [
       "<matplotlib.figure.Figure at 0x7ff435eedd68>"
      ]
     },
     "metadata": {},
     "output_type": "display_data"
    }
   ],
   "source": [
    "pl.scatter(x, lag)\n",
    "pl.plot(np.linspace(min(x), max(x),10), \n",
    "     [m*xx+b for xx in np.linspace(min(x),max(x), 10)], \n",
    "     c='r', label=\"OLS fit\\nMoran's $I$ = {:.3f}\".format(m))\n",
    "pl.title(\"spatial lag versus variable of interest on the somethingInteresting grid\")\n",
    "pl.xlabel(\"value of variable\")\n",
    "pl.ylabel(\"spatial lag of variable\")\n",
    "pl.legend()"
   ]
  },
  {
   "cell_type": "code",
   "execution_count": null,
   "metadata": {},
   "outputs": [],
   "source": []
  },
  {
   "cell_type": "code",
   "execution_count": null,
   "metadata": {},
   "outputs": [],
   "source": []
  }
 ],
 "metadata": {
  "kernelspec": {
   "display_name": "PUI2016_Python3",
   "language": "python",
   "name": "pui2016_python3"
  },
  "language_info": {
   "codemirror_mode": {
    "name": "ipython",
    "version": 3
   },
   "file_extension": ".py",
   "mimetype": "text/x-python",
   "name": "python",
   "nbconvert_exporter": "python",
   "pygments_lexer": "ipython3",
   "version": "3.5.4"
  }
 },
 "nbformat": 4,
 "nbformat_minor": 2
}
